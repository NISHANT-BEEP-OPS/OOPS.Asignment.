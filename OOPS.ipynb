{
  "nbformat": 4,
  "nbformat_minor": 0,
  "metadata": {
    "colab": {
      "provenance": []
    },
    "kernelspec": {
      "name": "python3",
      "display_name": "Python 3"
    },
    "language_info": {
      "name": "python"
    }
  },
  "cells": [
    {
      "cell_type": "markdown",
      "source": [
        "**1:- What is Object-Oriented Programming (OOP)**"
      ],
      "metadata": {
        "id": "Sbtgnz-HjCv3"
      }
    },
    {
      "cell_type": "markdown",
      "source": [
        "Object-Oriented Programming (OOP) is a programming paradigm based on the concept of \"objects\", which can contain:\n",
        "\n",
        "Data, in the form of fields (also known as attributes or properties)\n",
        "\n",
        "Code, in the form of methods (functions associated with an object)"
      ],
      "metadata": {
        "id": "kw5j95GhjLM3"
      }
    },
    {
      "cell_type": "markdown",
      "source": [
        "**2:- What is a class in OOP**"
      ],
      "metadata": {
        "id": "8J5-DDCOjuPw"
      }
    },
    {
      "cell_type": "markdown",
      "source": [
        "In Object-Oriented Programming (OOP), a class is a blueprint or template for creating objects"
      ],
      "metadata": {
        "id": "IkhKvu33j3Un"
      }
    },
    {
      "cell_type": "markdown",
      "source": [
        "**3:-  What is an object in** **OOP**"
      ],
      "metadata": {
        "id": "XxeQLJp2kVJX"
      }
    },
    {
      "cell_type": "markdown",
      "source": [
        "In Object-Oriented Programming (OOP), an object is a self-contained unit of code that encapsulates data (attributes or properties) and the methods (functions or behaviors) that operate on that data\n"
      ],
      "metadata": {
        "id": "hxRkBb_3lCkO"
      }
    },
    {
      "cell_type": "markdown",
      "source": [
        "**4:- What is the difference between abstraction and encapsulation**"
      ],
      "metadata": {
        "id": "Fbe_QZ-zlO4P"
      }
    },
    {
      "cell_type": "markdown",
      "source": [
        "Abstraction focuses on hiding complex implementation details and showing only the essential features of an object, while encapsulation focuses on bundling data and methods that operate on that data within a single unit and controlling access to it"
      ],
      "metadata": {
        "id": "nsK7Hd3JlcCG"
      }
    },
    {
      "cell_type": "markdown",
      "source": [
        "**5:-  What are dunder methods in Python**"
      ],
      "metadata": {
        "id": "1gQQ00_3llBV"
      }
    },
    {
      "cell_type": "markdown",
      "source": [
        "Dunder methods, also known as magic methods or special methods, are a core part of Python's object model. They are distinguished by their names, which begin and end with double underscores (e.g.,  __init__,  __str__,   __add__)."
      ],
      "metadata": {
        "id": "j8d0H__Olq8m"
      }
    },
    {
      "cell_type": "markdown",
      "source": [
        "**6:- Explain the concept of inheritance in OOP**"
      ],
      "metadata": {
        "id": "RkLGoW6KmChW"
      }
    },
    {
      "cell_type": "markdown",
      "source": [
        "Inheritance in Object-Oriented Programming (OOP) is a mechanism where a new class (subclass or derived class) inherits attributes and methods from an existing class (parent class or superclass)"
      ],
      "metadata": {
        "id": "WF8zYdL2mUdd"
      }
    },
    {
      "cell_type": "markdown",
      "source": [
        "**7:-  What is polymorphism in OOP**"
      ],
      "metadata": {
        "id": "MjqcNjXamW_O"
      }
    },
    {
      "cell_type": "markdown",
      "source": [
        "Polymorphism, in object-oriented programming (OOP), is the ability of an object to take on many forms\n",
        "\n",
        "**Key Concepts:**\n",
        "\n",
        "Treating objects of different types as the same type\n",
        "\n",
        "Abstraction\n",
        "\n",
        "Flexibility\n",
        "\n"
      ],
      "metadata": {
        "id": "NSPtKzyBmtDG"
      }
    },
    {
      "cell_type": "markdown",
      "source": [
        "**8:- How is encapsulation achieved in Python**"
      ],
      "metadata": {
        "id": "pQxA1szzoJOv"
      }
    },
    {
      "cell_type": "markdown",
      "source": [
        "Encapsulation can be achieved by Declaring all the variables in the class as private and writing public methods in the class to set and get the values of variables"
      ],
      "metadata": {
        "id": "MOewCReXoSne"
      }
    },
    {
      "cell_type": "markdown",
      "source": [
        "**9:- What is a constructor in Python**"
      ],
      "metadata": {
        "id": "74lf3CFFohbO"
      }
    },
    {
      "cell_type": "markdown",
      "source": [
        "In Python, a constructor is a special method that is called automatically when an object is created from a class. Its main role is to initialize the object by setting up its attributes or state."
      ],
      "metadata": {
        "id": "u3SXWjH6oqjV"
      }
    },
    {
      "cell_type": "markdown",
      "source": [
        "**10:- What are class and static methods in Python**"
      ],
      "metadata": {
        "id": "ZVAgAlsUo_Zt"
      }
    },
    {
      "cell_type": "markdown",
      "source": [
        "In Python, both class methods and static methods are used to define behaviors that are not tied to a specific object instance. However, they serve different purposes and are declared differently.\n",
        "\n",
        "**Class Method**\n",
        "\n",
        "A class method is a method that is bound to the class, not the instance. It has access to the class itself and can modify class-level data.\n",
        "\n",
        "**Static Method**\n",
        "\n",
        "A static method does not take self or cls as its first argument. It behaves like a regular function, but belongs to the class’s namespace."
      ],
      "metadata": {
        "id": "-rUkFVPtpWbF"
      }
    },
    {
      "cell_type": "markdown",
      "source": [
        "**11:- What is method overloading in Python**"
      ],
      "metadata": {
        "id": "dFgW2vZuppY-"
      }
    },
    {
      "cell_type": "markdown",
      "source": [
        "Method overloading refers to the ability to define multiple methods with the same name but different parameters (number or type of arguments)."
      ],
      "metadata": {
        "id": "-fHDAKk1pyKN"
      }
    },
    {
      "cell_type": "markdown",
      "source": [
        "**12:- What is method overriding in OOP**"
      ],
      "metadata": {
        "id": "JtNA-tXRqKLe"
      }
    },
    {
      "cell_type": "markdown",
      "source": [
        "In Object-Oriented Programming (OOP), method overriding allows a subclass to provide a specific implementation of a method that is already defined in its parent class (superclass)"
      ],
      "metadata": {
        "id": "6E7UGApYqRmN"
      }
    },
    {
      "cell_type": "markdown",
      "source": [
        "**13:- What is a property decorator in Python**"
      ],
      "metadata": {
        "id": "VeKqYBABqawF"
      }
    },
    {
      "cell_type": "markdown",
      "source": [
        "@property decorator is a built-in decorator in Python which is helpful in defining the properties effortlessly without manually calling the inbuilt function property()"
      ],
      "metadata": {
        "id": "y5m8ZQVwqgGt"
      }
    },
    {
      "cell_type": "markdown",
      "source": [
        "**14:- Why is polymorphism important in OOP**"
      ],
      "metadata": {
        "id": "2b-hcRl4q-FO"
      }
    },
    {
      "cell_type": "markdown",
      "source": [
        "Polymorphism in object-oriented programming is crucial because it allows for increased flexibility, code reusability, and maintainability\n",
        "\n",
        "**Here's a breakdown of the importance:**\n",
        "\n",
        "Flexibility and Adaptability\n",
        "\n",
        "Code Reusability\n",
        "\n",
        "Maintainability\n",
        "\n",
        "Readability and Scalability\n",
        "\n",
        "Reduced Complexity"
      ],
      "metadata": {
        "id": "xKVzFYYAsXkC"
      }
    },
    {
      "cell_type": "markdown",
      "source": [
        "**15:- What is an abstract class in Python**"
      ],
      "metadata": {
        "id": "sHDMVKo1st39"
      }
    },
    {
      "cell_type": "markdown",
      "source": [
        "In Python, an abstract class is a class that cannot be instantiated directly on its own. Instead, it's designed to serve as a blueprint or interface for other classes (its subclasses)"
      ],
      "metadata": {
        "id": "JEKz_MEFs6Pu"
      }
    },
    {
      "cell_type": "markdown",
      "source": [
        "**16:- What are the advantages of OOP**"
      ],
      "metadata": {
        "id": "rRsQdvb-tK9o"
      }
    },
    {
      "cell_type": "markdown",
      "source": [
        "Object-oriented programming (OOP) offers numerous advantages, including improved code organization, reusability, flexibility, and scalability\n",
        "\n",
        "**Key Advantages of OOP:**\n",
        "\n",
        "Modularity and Code Organization\n",
        "\n",
        "Reusability\n",
        "\n",
        "Flexibility and Adaptability\n",
        "\n",
        "Enhanced Problem-Solving\n",
        "\n",
        "Simplified Debugging"
      ],
      "metadata": {
        "id": "z5d7cYTNtZgv"
      }
    },
    {
      "cell_type": "markdown",
      "source": [
        "**17:- What is the difference between a class variable and an instance variable**"
      ],
      "metadata": {
        "id": "FsLLhIuJtt8-"
      }
    },
    {
      "cell_type": "markdown",
      "source": [
        "Class variables are shared across all instances (objects) of a class, while instance variables are unique to each instance\n",
        "\n",
        "Class Variable:\n",
        "\n",
        "Scope:\n",
        "Defined at the class level, accessible by all instances of the class.\n",
        "\n",
        "Shared:\n",
        "\n",
        "Only one copy of the class variable exists for the entire class, and it's shared among all objects.\n",
        "\n",
        "Access:\n",
        "\n",
        " Can be accessed using the class name or an object of the class.\n",
        "\n",
        "Example:\n",
        "\n",
        " A counter variable in a class to track the number of instances created.\n",
        "\n",
        " Instance Variable:\n",
        "\n",
        "\n",
        "Scope:\n",
        "\n",
        " Defined within a class, but associated with a specific instance (object).\n",
        "Unique:\n",
        "\n",
        "Each instance of the class has its own independent copy of the instance variable.\n",
        "\n",
        "\n",
        "Access:\n",
        "\n",
        "Can only be accessed through an object of the class.\n",
        "\n",
        "\n",
        "Example:\n",
        "\n",
        " A name or age attribute of a \"Person\" class, where each instance (Person object) has its own unique name and age."
      ],
      "metadata": {
        "id": "uKYr2LIUt8lu"
      }
    },
    {
      "cell_type": "markdown",
      "source": [
        "**18:- What is multiple inheritance in Python**"
      ],
      "metadata": {
        "id": "lzOCwX9tui5u"
      }
    },
    {
      "cell_type": "markdown",
      "source": [
        "When a class is derived from more than one base class it is called multiple Inheritance. The derived class inherits all the features of the base case."
      ],
      "metadata": {
        "id": "XUAvHOZ3vUQo"
      }
    },
    {
      "cell_type": "markdown",
      "source": [
        "**19:- Explain the purpose of ‘’__str__’ and ‘__repr__’ ‘ methods in Python**"
      ],
      "metadata": {
        "id": "JeNh8bmPvYDG"
      }
    },
    {
      "cell_type": "markdown",
      "source": [
        "In Python, the str() and repr() functions are used to obtain string representations of objects. While they may seem similar at first glance, there are some differences in how they behave. Both of the functions can be helpful in debugging or printing useful information about the object."
      ],
      "metadata": {
        "id": "aMntha4YvheH"
      }
    },
    {
      "cell_type": "markdown",
      "source": [
        "**20:- What is the significance of the ‘super()’ function in Python**"
      ],
      "metadata": {
        "id": "UvIIREZAv20m"
      }
    },
    {
      "cell_type": "markdown",
      "source": [
        "The super() function in Python is a built-in function that plays a significant role in object-oriented programming, particularly within the context of inheritance. Its primary significance lies in its ability to facilitate interaction with parent or superclasses from within a child or subclass.\n",
        "\n",
        "Key significances of super():\n",
        "\n",
        "Accessing Parent Class Methods\n",
        "\n",
        "Facilitating Method Resolution Order (MRO)\n",
        "\n",
        "Promoting Code Reusability and Maintainability\n",
        "\n",
        "Enhancing Flexibility\n",
        "\n"
      ],
      "metadata": {
        "id": "xBudesmlwAKu"
      }
    },
    {
      "cell_type": "markdown",
      "source": [
        "**21:-  What is the significance of the __del__ method in Python**"
      ],
      "metadata": {
        "id": "pUhSYpZH0ZT_"
      }
    },
    {
      "cell_type": "markdown",
      "source": [
        "The  __del__  method in Python, also known as the destructor, holds significance primarily in managing resource cleanup when an object is about to be garbage collected."
      ],
      "metadata": {
        "id": "wV97TY9a0hgO"
      }
    },
    {
      "cell_type": "markdown",
      "source": [
        "**22:- What is the difference between @staticmethod and @classmethod in Python**"
      ],
      "metadata": {
        "id": "LRpjCKhw00Pf"
      }
    },
    {
      "cell_type": "markdown",
      "source": [
        "Use @classmethod when the method needs to interact with the class itself (e.g., access class variables, create new instances of the class).\n",
        "\n",
        "\n",
        "Use @staticmethod when the method is a standalone utility that logically belongs to the class but doesn't need access to instance or class-specific data."
      ],
      "metadata": {
        "id": "kZT27-1R09bu"
      }
    },
    {
      "cell_type": "markdown",
      "source": [
        "**23:- How does polymorphism work in Python with inheritance**"
      ],
      "metadata": {
        "id": "90HORAb41bE_"
      }
    },
    {
      "cell_type": "markdown",
      "source": [
        "Polymorphism in Python, when combined with inheritance, allows objects of different classes that share a common base class to be treated uniformly through a shared interface. This is primarily achieved through method overriding.\n",
        "\n",
        "**Here's how it works:**\n",
        "\n",
        "Inheritance\n",
        "\n",
        "Method Overriding\n",
        "\n",
        "Polymorphic Behavior"
      ],
      "metadata": {
        "id": "QBe7MKZW1x1P"
      }
    },
    {
      "cell_type": "markdown",
      "source": [
        "**24:- What is method chaining in Python OOP**"
      ],
      "metadata": {
        "id": "bMI408Yq2Dkm"
      }
    },
    {
      "cell_type": "markdown",
      "source": [
        "Method chaining is a powerful programming pattern that allows you to call multiple methods on an object in a single line of code. It enhances code readability and conciseness by eliminating the need for intermediate variables or repeated method calls."
      ],
      "metadata": {
        "id": "qVPMnffw2QMG"
      }
    },
    {
      "cell_type": "markdown",
      "source": [
        "**25:- H What is the purpose of the __call__ method in Python**"
      ],
      "metadata": {
        "id": "ng1HOiLc2R3f"
      }
    },
    {
      "cell_type": "markdown",
      "source": [
        "The purpose of the __call__ method in Python is to make instances of a class callable, meaning they can be invoked like functions."
      ],
      "metadata": {
        "id": "daBGnk112ZIu"
      }
    },
    {
      "cell_type": "markdown",
      "source": [
        "**Practical Questions**"
      ],
      "metadata": {
        "id": "9fmoYXe92ulO"
      }
    },
    {
      "cell_type": "markdown",
      "source": [
        "1. Create a parent class Animal with a method speak() that prints a generic message. Create a child class Dog\n",
        "that overrides the speak() method to print \"Bark!\"."
      ],
      "metadata": {
        "id": "sBj_YLlG2x-G"
      }
    },
    {
      "cell_type": "code",
      "source": [
        "class Animal:\n",
        "    def speak(self):\n",
        "        print(\"The animal makes a sound.\")\n",
        "\n",
        "class Dog(Animal):\n",
        "    def speak(self):\n",
        "        print(\"Bark!\")\n",
        "\n",
        "\n",
        "a = Animal()\n",
        "a.speak()\n",
        "\n",
        "d = Dog()\n",
        "d.speak()"
      ],
      "metadata": {
        "colab": {
          "base_uri": "https://localhost:8080/"
        },
        "id": "FR6MCtVF3aUC",
        "outputId": "24360ee0-9028-4a10-8728-d8ac9acd1964"
      },
      "execution_count": null,
      "outputs": [
        {
          "output_type": "stream",
          "name": "stdout",
          "text": [
            "The animal makes a sound.\n",
            "Bark!\n"
          ]
        }
      ]
    },
    {
      "cell_type": "markdown",
      "source": [
        "2. Write a program to create an abstract class Shape with a method area(). Derive classes Circle and Rectangle\n",
        "from it and implement the area() method in both."
      ],
      "metadata": {
        "id": "0B0yeU9y4Qvw"
      }
    },
    {
      "cell_type": "code",
      "source": [
        "class Shape(ABC):\n",
        "    def area(self):\n",
        "        pass\n",
        "\n",
        "class Circle(Shape):\n",
        "    def __init__(self, radius):\n",
        "        self.radius = radius\n",
        "\n",
        "    def area(self):\n",
        "        return math.pi * self.radius ** 2\n",
        "\n",
        "class Rectangle(Shape):\n",
        "    def __init__(self, width, height):\n",
        "        self.width = width\n",
        "        self.height = height\n",
        "\n",
        "    def area(self):\n",
        "        return self.width * self.height\n",
        "\n",
        "c = Circle(5)\n",
        "r = Rectangle(4, 6)\n",
        "\n",
        "print(\"Area of Circle:\", c.area())\n",
        "print(\"Area of Rectangle:\", r.area())\n"
      ],
      "metadata": {
        "colab": {
          "base_uri": "https://localhost:8080/"
        },
        "id": "4eD4JWeW5Ezw",
        "outputId": "d5cd06a8-efc0-40e5-f5ae-68269ce42ac5"
      },
      "execution_count": null,
      "outputs": [
        {
          "output_type": "stream",
          "name": "stdout",
          "text": [
            "Area of Circle: 78.53981633974483\n",
            "Area of Rectangle: 24\n"
          ]
        }
      ]
    },
    {
      "cell_type": "markdown",
      "source": [
        "3. Implement a multi-level inheritance scenario where a class Vehicle has an attribute type. Derive a class Car\n",
        "and further derive a class ElectricCar that adds a battery attribute."
      ],
      "metadata": {
        "id": "G0ebqn3n5ssd"
      }
    },
    {
      "cell_type": "code",
      "source": [
        "class Vehicle:\n",
        "    def __init__(self, vehicle_type):\n",
        "        self.vehicle_type = vehicle_type\n",
        "\n",
        "class Car(Vehicle):\n",
        "    def __init__(self, vehicle_type, brand):\n",
        "        super().__init__(vehicle_type)\n",
        "        self.brand = brand\n",
        "\n",
        "class ElectricCar(Car):\n",
        "    def __init__(self, vehicle_type, brand, battery_capacity):\n",
        "        super().__init__(vehicle_type, brand)\n",
        "        self.battery_capacity = battery_capacity\n",
        "\n",
        "    def display_info(self):\n",
        "        print(f\"Type: {self.vehicle_type}\")\n",
        "        print(f\"Brand: {self.brand}\")\n",
        "        print(f\"Battery: {self.battery_capacity} kWh\")\n",
        "\n",
        "e_car = ElectricCar(\"Electric Vehicle\", \"Tesla\", 75)\n",
        "e_car.display_info()\n"
      ],
      "metadata": {
        "colab": {
          "base_uri": "https://localhost:8080/"
        },
        "id": "Pzw5i7N650AO",
        "outputId": "2ba2ebf1-da7c-472e-83da-0741b6b8f6b6"
      },
      "execution_count": null,
      "outputs": [
        {
          "output_type": "stream",
          "name": "stdout",
          "text": [
            "Type: Electric Vehicle\n",
            "Brand: Tesla\n",
            "Battery: 75 kWh\n"
          ]
        }
      ]
    },
    {
      "cell_type": "markdown",
      "source": [
        "4. Demonstrate polymorphism by creating a base class Bird with a method fly(). Create two derived classes\n",
        "Sparrow and Penguin that override the fly() method.\n",
        "\n"
      ],
      "metadata": {
        "id": "NLWPMlXx62Ne"
      }
    },
    {
      "cell_type": "code",
      "source": [
        "class Bird:\n",
        "    def fly(self):\n",
        "        print(\"Some birds can fly.\")\n",
        "\n",
        "class Sparrow(Bird):\n",
        "    def fly(self):\n",
        "        print(\"Sparrow flies high in the sky.\")\n",
        "\n",
        "class Penguin(Bird):\n",
        "    def fly(self):\n",
        "        print(\"Penguin cannot fly, but swims well.\")\n",
        "\n",
        "def bird_flight(bird):\n",
        "    bird.fly()\n",
        "\n",
        "b1 = Sparrow()\n",
        "b2 = Penguin()\n",
        "\n",
        "bird_flight(b1)\n",
        "bird_flight(b2)\n"
      ],
      "metadata": {
        "colab": {
          "base_uri": "https://localhost:8080/"
        },
        "id": "nvHhkeSK679e",
        "outputId": "249e966e-0645-42b4-9bda-565af64a39c5"
      },
      "execution_count": null,
      "outputs": [
        {
          "output_type": "stream",
          "name": "stdout",
          "text": [
            "Sparrow flies high in the sky.\n",
            "Penguin cannot fly, but swims well.\n"
          ]
        }
      ]
    },
    {
      "cell_type": "markdown",
      "source": [
        "5. Write a program to demonstrate encapsulation by creating a class BankAccount with private attributes\n",
        "balance and methods to deposit, withdraw, and check balance."
      ],
      "metadata": {
        "id": "_P8VS7Mu7VnG"
      }
    },
    {
      "cell_type": "code",
      "source": [
        "class BankAccount:\n",
        "    def __init__(self, initial_balance=0):\n",
        "        self.__balance = initial_balance  # Private attribute\n",
        "\n",
        "    def deposit(self, amount):\n",
        "        if amount > 0:\n",
        "            self.__balance += amount\n",
        "            print(f\"Deposited: ₹{amount}\")\n",
        "        else:\n",
        "            print(\"Deposit amount must be positive.\")\n",
        "\n",
        "    def withdraw(self, amount):\n",
        "        if 0 < amount <= self.__balance:\n",
        "            self.__balance -= amount\n",
        "            print(f\"Withdrew: ₹{amount}\")\n",
        "        else:\n",
        "            print(\"Insufficient balance or invalid amount.\")\n",
        "\n",
        "    def check_balance(self):\n",
        "        print(f\"Current balance: ₹{self.__balance}\")\n",
        "\n",
        "account = BankAccount(1000)\n",
        "account.check_balance()\n",
        "account.deposit(500)\n",
        "account.withdraw(200)\n",
        "account.check_balance()\n",
        "\n"
      ],
      "metadata": {
        "colab": {
          "base_uri": "https://localhost:8080/"
        },
        "id": "t-Ru0pKf7hVS",
        "outputId": "f3db6bd4-ea71-4d41-9255-d1f4af5ebea8"
      },
      "execution_count": null,
      "outputs": [
        {
          "output_type": "stream",
          "name": "stdout",
          "text": [
            "Current balance: ₹1000\n",
            "Deposited: ₹500\n",
            "Withdrew: ₹200\n",
            "Current balance: ₹1300\n"
          ]
        }
      ]
    },
    {
      "cell_type": "markdown",
      "source": [
        "6. Demonstrate runtime polymorphism using a method play() in a base class Instrument. Derive classes Guitar\n",
        "and Piano that implement their own version of play()."
      ],
      "metadata": {
        "id": "e5v3D7Aj72Gm"
      }
    },
    {
      "cell_type": "code",
      "source": [
        "class Instrument:\n",
        "    def play(self):\n",
        "        print(\"Playing an instrument.\")\n",
        "\n",
        "class Guitar(Instrument):\n",
        "    def play(self):\n",
        "        print(\"Strumming the guitar.\")\n",
        "\n",
        "class Piano(Instrument):\n",
        "    def play(self):\n",
        "        print(\"Playing the piano keys.\")\n",
        "\n",
        "\n",
        "def perform(instrument):\n",
        "    instrument.play()\n",
        "\n",
        "g = Guitar()\n",
        "p = Piano()\n",
        "\n",
        "perform(g)\n",
        "perform(p)\n"
      ],
      "metadata": {
        "colab": {
          "base_uri": "https://localhost:8080/"
        },
        "id": "Zcbr-eRB78F_",
        "outputId": "c04764cd-3033-40ab-8ef7-83088ba8ebe3"
      },
      "execution_count": null,
      "outputs": [
        {
          "output_type": "stream",
          "name": "stdout",
          "text": [
            "Strumming the guitar.\n",
            "Playing the piano keys.\n"
          ]
        }
      ]
    },
    {
      "cell_type": "markdown",
      "source": [
        "7. Create a class MathOperations with a class method add_numbers() to add two numbers and a static\n",
        "method subtract_numbers() to subtract two numbers."
      ],
      "metadata": {
        "id": "JuptAIHdpSYF"
      }
    },
    {
      "cell_type": "code",
      "source": [
        "class MathOperations:\n",
        "    @classmethod\n",
        "    def add_numbers(cls, a, b):\n",
        "        return a + b\n",
        "\n",
        "    @staticmethod\n",
        "    def subtract_numbers(a, b):\n",
        "        return a - b\n",
        "\n",
        "# Example usage\n",
        "print(\"Addition:\", MathOperations.add_numbers(10, 5))\n",
        "print(\"Subtraction:\", MathOperations.subtract_numbers(10, 5))"
      ],
      "metadata": {
        "colab": {
          "base_uri": "https://localhost:8080/"
        },
        "id": "ZTOBXJVXp7JG",
        "outputId": "caa8be29-6631-4155-ede4-5cc8717555a7"
      },
      "execution_count": 2,
      "outputs": [
        {
          "output_type": "stream",
          "name": "stdout",
          "text": [
            "Addition: 15\n",
            "Subtraction: 5\n"
          ]
        }
      ]
    },
    {
      "cell_type": "markdown",
      "source": [
        "8. Implement a class Person with a class method to count the total number of persons created."
      ],
      "metadata": {
        "id": "yn0mYdKaqOop"
      }
    },
    {
      "cell_type": "code",
      "source": [
        "class Person:\n",
        "    count = 0\n",
        "\n",
        "    def __init__(self, name):\n",
        "        self.name = name\n",
        "        Person.count += 1\n",
        "\n",
        "    @classmethod\n",
        "    def total_persons(cls):\n",
        "        return cls.count\n",
        "\n",
        "p1 = Person(\"Alice\")\n",
        "p2 = Person(\"Bob\")\n",
        "p3 = Person(\"Charlie\")\n",
        "\n",
        "print(\"Total persons created:\", Person.total_persons())\n"
      ],
      "metadata": {
        "colab": {
          "base_uri": "https://localhost:8080/"
        },
        "id": "hD_ZKVz7qJsd",
        "outputId": "6fa88271-6741-4134-b13f-3fe0686aeaef"
      },
      "execution_count": 3,
      "outputs": [
        {
          "output_type": "stream",
          "name": "stdout",
          "text": [
            "Total persons created: 3\n"
          ]
        }
      ]
    },
    {
      "cell_type": "markdown",
      "source": [
        "9. Write a class Fraction with attributes numerator and denominator. Override the str method to display the\n",
        "fraction as \"numerator/denominator\"."
      ],
      "metadata": {
        "id": "pFcWlSS2yPDb"
      }
    },
    {
      "cell_type": "code",
      "source": [
        "class Fraction:\n",
        "    def __init__(self, numerator, denominator):\n",
        "        self.numerator = numerator\n",
        "        self.denominator = denominator\n",
        "\n",
        "    def __str__(self):\n",
        "        return f\"{self.numerator}/{self.denominator}\"\n",
        "\n",
        "f = Fraction(3, 4)\n",
        "print(f)\n"
      ],
      "metadata": {
        "colab": {
          "base_uri": "https://localhost:8080/"
        },
        "id": "_-49kQkiq0FG",
        "outputId": "aa5baaad-21e7-42b4-c06a-e4d91e183824"
      },
      "execution_count": 4,
      "outputs": [
        {
          "output_type": "stream",
          "name": "stdout",
          "text": [
            "3/4\n"
          ]
        }
      ]
    },
    {
      "cell_type": "markdown",
      "source": [
        "10. Demonstrate operator overloading by creating a class Vector and overriding the add method to add two\n",
        "vectors"
      ],
      "metadata": {
        "id": "E4ryJpesy6Hq"
      }
    },
    {
      "cell_type": "code",
      "source": [
        "class Vector:\n",
        "    def __init__(self, x, y):\n",
        "        self.x = x\n",
        "        self.y = y\n",
        "\n",
        "    def __add__(self, other):\n",
        "\n",
        "        return Vector(self.x + other.x, self.y + other.y)\n",
        "\n",
        "    def __str__(self):\n",
        "        return f\"Vector({self.x}, {self.y})\"\n",
        "\n",
        "v1 = Vector(2, 3)\n",
        "v2 = Vector(4, 5)\n",
        "result = v1 + v2\n",
        "print(result)"
      ],
      "metadata": {
        "colab": {
          "base_uri": "https://localhost:8080/"
        },
        "id": "50XS3vimzWvh",
        "outputId": "f0497243-1e15-44aa-e511-3370d621b68c"
      },
      "execution_count": 5,
      "outputs": [
        {
          "output_type": "stream",
          "name": "stdout",
          "text": [
            "Vector(6, 8)\n"
          ]
        }
      ]
    },
    {
      "cell_type": "markdown",
      "source": [
        "11. Create a class Person with attributes name and age. Add a method greet() that prints \"Hello, my name is\n",
        "{name} and I am {age} years old.\""
      ],
      "metadata": {
        "id": "i0SFrx_8ziyA"
      }
    },
    {
      "cell_type": "code",
      "source": [
        "class Person:\n",
        "    def __init__(self, name, age):\n",
        "        self.name = name\n",
        "        self.age = age\n",
        "\n",
        "    def greet(self):\n",
        "        print(f\"Hello, my name is {self.name} and I am {self.age} years old.\")\n",
        "\n",
        "p1 = Person(\"Alice\", 30)\n",
        "p1.greet()\n"
      ],
      "metadata": {
        "colab": {
          "base_uri": "https://localhost:8080/"
        },
        "id": "FPEGoboUzdf8",
        "outputId": "d79f0a3e-f5e5-47ce-eec1-dddc35fa026f"
      },
      "execution_count": 6,
      "outputs": [
        {
          "output_type": "stream",
          "name": "stdout",
          "text": [
            "Hello, my name is Alice and I am 30 years old.\n"
          ]
        }
      ]
    },
    {
      "cell_type": "markdown",
      "source": [
        "12. Implement a class Student with attributes name and grades. Create a method average_grade() to compute\n",
        "the average of the grades."
      ],
      "metadata": {
        "id": "fG3NEaP9z3rJ"
      }
    },
    {
      "cell_type": "code",
      "source": [
        "class Student:\n",
        "    def __init__(self, name, grades):\n",
        "        self.name = name\n",
        "        self.grades = grades\n",
        "\n",
        "    def average_grade(self):\n",
        "        if not self.grades:\n",
        "            return 0\n",
        "        return sum(self.grades) / len(self.grades)\n",
        "\n",
        "s1 = Student(\"John\", [85, 90, 78, 92])\n",
        "print(f\"{s1.name}'s average grade is: {s1.average_grade():.2f}\")\n"
      ],
      "metadata": {
        "colab": {
          "base_uri": "https://localhost:8080/"
        },
        "id": "-b2NXnydzx-y",
        "outputId": "93992749-6754-4dff-cd0c-0bc891f487dd"
      },
      "execution_count": 7,
      "outputs": [
        {
          "output_type": "stream",
          "name": "stdout",
          "text": [
            "John's average grade is: 86.25\n"
          ]
        }
      ]
    },
    {
      "cell_type": "markdown",
      "source": [
        "13. Create a class Rectangle with methods set_dimensions() to set the dimensions and area() to calculate the\n",
        "area."
      ],
      "metadata": {
        "id": "dWumW-fV0N4w"
      }
    },
    {
      "cell_type": "code",
      "source": [
        "class Rectangle:\n",
        "    def __init__(self):\n",
        "        self.length = 0\n",
        "        self.width = 0\n",
        "\n",
        "    def set_dimensions(self, length, width):\n",
        "        self.length = length\n",
        "        self.width = width\n",
        "\n",
        "    def area(self):\n",
        "        return self.length * self.width\n",
        "\n",
        "r = Rectangle()\n",
        "r.set_dimensions(5, 3)\n",
        "print(f\"The area of the rectangle is: {r.area()}\")\n"
      ],
      "metadata": {
        "colab": {
          "base_uri": "https://localhost:8080/"
        },
        "id": "aw9ZAH4w0HRt",
        "outputId": "9d95f852-e99e-498f-a2d3-fb68abc2e1e1"
      },
      "execution_count": 8,
      "outputs": [
        {
          "output_type": "stream",
          "name": "stdout",
          "text": [
            "The area of the rectangle is: 15\n"
          ]
        }
      ]
    },
    {
      "cell_type": "markdown",
      "source": [
        "14. Create a class Employee with a method calculate_salary() that computes the salary based on hours worked\n",
        "and hourly rate. Create a derived class Manager that adds a bonus to the salary"
      ],
      "metadata": {
        "id": "Q3cvxUJs0tZx"
      }
    },
    {
      "cell_type": "code",
      "source": [
        "class Employee:\n",
        "    def __init__(self, name, hours_worked, hourly_rate):\n",
        "        self.name = name\n",
        "        self.hours_worked = hours_worked\n",
        "        self.hourly_rate = hourly_rate\n",
        "\n",
        "    def calculate_salary(self):\n",
        "        return self.hours_worked * self.hourly_rate\n",
        "\n",
        "class Manager(Employee):\n",
        "    def __init__(self, name, hours_worked, hourly_rate, bonus):\n",
        "        super().__init__(name, hours_worked, hourly_rate)\n",
        "        self.bonus = bonus\n",
        "\n",
        "    def calculate_salary(self):\n",
        "        base_salary = super().calculate_salary()\n",
        "        return base_salary + self.bonus\n",
        "\n",
        "e1 = Employee(\"Alice\", 40, 20)\n",
        "print(f\"{e1.name}'s salary: ${e1.calculate_salary()}\")\n",
        "\n",
        "m1 = Manager(\"Bob\", 40, 30, 500)\n",
        "print(f\"{m1.name}'s salary with bonus: ${m1.calculate_salary()}\")\n"
      ],
      "metadata": {
        "colab": {
          "base_uri": "https://localhost:8080/"
        },
        "id": "fsYSDTvd0ZYL",
        "outputId": "feb3963d-78d7-4d27-f812-b75c4368da58"
      },
      "execution_count": 9,
      "outputs": [
        {
          "output_type": "stream",
          "name": "stdout",
          "text": [
            "Alice's salary: $800\n",
            "Bob's salary with bonus: $1700\n"
          ]
        }
      ]
    },
    {
      "cell_type": "markdown",
      "source": [
        "15. Create a class Product with attributes name, price, and quantity. Implement a method total_price() that\n",
        "calculates the total price of the product."
      ],
      "metadata": {
        "id": "5YE1W8R-1YwJ"
      }
    },
    {
      "cell_type": "code",
      "source": [
        "class Product:\n",
        "    def __init__(self, name, price, quantity):\n",
        "        self.name = name\n",
        "        self.price = price\n",
        "        self.quantity = quantity\n",
        "\n",
        "    def total_price(self):\n",
        "        return self.price * self.quantity\n",
        "\n",
        "p1 = Product(\"Laptop\", 60000, 2)\n",
        "print(f\"Total price for {p1.quantity} {p1.name}(s): ₹{p1.total_price()}\")\n"
      ],
      "metadata": {
        "colab": {
          "base_uri": "https://localhost:8080/"
        },
        "id": "qv4flF421Wgz",
        "outputId": "891bf2b8-2f34-42f3-ddc2-167638077afb"
      },
      "execution_count": 10,
      "outputs": [
        {
          "output_type": "stream",
          "name": "stdout",
          "text": [
            "Total price for 2 Laptop(s): ₹120000\n"
          ]
        }
      ]
    },
    {
      "cell_type": "markdown",
      "source": [
        "16. Create a class Animal with an abstract method sound(). Create two derived classes Cow and Sheep that\n",
        "implement the sound() method."
      ],
      "metadata": {
        "id": "fydH4ZGE1y-z"
      }
    },
    {
      "cell_type": "code",
      "source": [
        "from abc import ABC, abstractmethod\n",
        "\n",
        "class Animal(ABC):\n",
        "    @abstractmethod\n",
        "    def sound(self):\n",
        "        pass\n",
        "\n",
        "class Cow(Animal):\n",
        "    def sound(self):\n",
        "        return \"Moo\"\n",
        "\n",
        "class Sheep(Animal):\n",
        "    def sound(self):\n",
        "        return \"Baa\"\n",
        "\n",
        "cow = Cow()\n",
        "sheep = Sheep()\n",
        "\n",
        "print(f\"Cow says: {cow.sound()}\")\n",
        "print(f\"Sheep says: {sheep.sound()}\")\n"
      ],
      "metadata": {
        "colab": {
          "base_uri": "https://localhost:8080/"
        },
        "id": "ijQ5C5JU1moH",
        "outputId": "9c1376c0-b5de-4911-f537-4a217aaf12ca"
      },
      "execution_count": 11,
      "outputs": [
        {
          "output_type": "stream",
          "name": "stdout",
          "text": [
            "Cow says: Moo\n",
            "Sheep says: Baa\n"
          ]
        }
      ]
    },
    {
      "cell_type": "markdown",
      "source": [
        "17. Create a class Book with attributes title, author, and year_published. Add a method get_book_info() that\n",
        "returns a formatted string with the book's details.\n",
        "\n",
        "\n"
      ],
      "metadata": {
        "id": "9BkksuWC36Eq"
      }
    },
    {
      "cell_type": "code",
      "source": [
        "class Book:\n",
        "    def __init__(self, title, author, year_published):\n",
        "        self.title = title\n",
        "        self.author = author\n",
        "        self.year_published = year_published\n",
        "\n",
        "    def get_book_info(self):\n",
        "        return f\"'{self.title}' by {self.author}, published in {self.year_published}\"\n",
        "\n",
        "book1 = Book(\"To Kill a Mockingbird\", \"Harper Lee\", 1960)\n",
        "print(book1.get_book_info())\n"
      ],
      "metadata": {
        "colab": {
          "base_uri": "https://localhost:8080/"
        },
        "id": "9NMOiLa_3MOS",
        "outputId": "ba4690df-0614-4b39-c7b6-658c531649d2"
      },
      "execution_count": 12,
      "outputs": [
        {
          "output_type": "stream",
          "name": "stdout",
          "text": [
            "'To Kill a Mockingbird' by Harper Lee, published in 1960\n"
          ]
        }
      ]
    },
    {
      "cell_type": "markdown",
      "source": [
        "18. Create a class House with attributes address and price. Create a derived class Mansion that adds an\n",
        "attribute number_of_rooms."
      ],
      "metadata": {
        "id": "ztlQqSDt4OEz"
      }
    },
    {
      "cell_type": "code",
      "source": [
        "class House:\n",
        "    def __init__(self, address, price):\n",
        "        self.address = address\n",
        "        self.price = price\n",
        "\n",
        "    def get_info(self):\n",
        "        return f\"Address: {self.address}, Price: ₹{self.price}\"\n",
        "\n",
        "class Mansion(House):\n",
        "    def __init__(self, address, price, number_of_rooms):\n",
        "        super().__init__(address, price)\n",
        "        self.number_of_rooms = number_of_rooms\n",
        "\n",
        "    def get_info(self):\n",
        "        return f\"{super().get_info()}, Rooms: {self.number_of_rooms}\"\n",
        "\n",
        "m1 = Mansion(\"123 Elite Street, Mumbai\", 50000000, 10)\n",
        "print(m1.get_info())\n"
      ],
      "metadata": {
        "colab": {
          "base_uri": "https://localhost:8080/"
        },
        "id": "theZkrbn4L72",
        "outputId": "4773aa02-977f-429f-b02c-e289328c8030"
      },
      "execution_count": 13,
      "outputs": [
        {
          "output_type": "stream",
          "name": "stdout",
          "text": [
            "Address: 123 Elite Street, Mumbai, Price: ₹50000000, Rooms: 10\n"
          ]
        }
      ]
    }
  ]
}